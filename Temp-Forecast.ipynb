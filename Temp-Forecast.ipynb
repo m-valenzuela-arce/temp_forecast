{
 "cells": [
  {
   "cell_type": "code",
   "execution_count": 1,
   "id": "57720ad2",
   "metadata": {},
   "outputs": [],
   "source": [
    "from pyspark.sql import SparkSession\n",
    "import pyspark.pandas as ps\n",
    "import numpy as np\n",
    "import matplotlib.pyplot as plt\n",
    "from pyspark.ml.feature import VectorAssembler, StandardScaler\n",
    "from pyspark.ml.regression import LinearRegression\n",
    "from pyspark.ml.evaluation import RegressionEvaluator\n",
    "import six\n",
    "from pyspark.ml.regression import GBTRegressor\n",
    "from pyspark.sql.functions import round"
   ]
  },
  {
   "cell_type": "code",
   "execution_count": 2,
   "id": "faf51842",
   "metadata": {},
   "outputs": [],
   "source": [
    "#Inicializamos la sesion de Spark\n",
    "spark = SparkSession \\\n",
    "    .builder \\\n",
    "    .config('spark.sql.debug.maxToStringFields', 2000) \\\n",
    "    .getOrCreate()"
   ]
  },
  {
   "cell_type": "code",
   "execution_count": 3,
   "id": "3abcfc1f",
   "metadata": {},
   "outputs": [
    {
     "name": "stderr",
     "output_type": "stream",
     "text": [
      "                                                                                \r"
     ]
    }
   ],
   "source": [
    "#Lectura del archivo .parquet\n",
    "df = spark.read.parquet('/LUSTRE/home/mcd-01/dataset.parquet')"
   ]
  },
  {
   "cell_type": "markdown",
   "id": "617a1624",
   "metadata": {},
   "source": [
    "### Exploración de Datos"
   ]
  },
  {
   "cell_type": "markdown",
   "id": "0a986352",
   "metadata": {},
   "source": [
    "Schema de nuestro conjunto de datos"
   ]
  },
  {
   "cell_type": "code",
   "execution_count": 4,
   "id": "b6750106",
   "metadata": {},
   "outputs": [
    {
     "name": "stdout",
     "output_type": "stream",
     "text": [
      "root\n",
      " |-- XLAT: double (nullable = true)\n",
      " |-- XLONG: double (nullable = true)\n",
      " |-- LU_INDEX: double (nullable = true)\n",
      " |-- VAR_SSO: double (nullable = true)\n",
      " |-- MU: double (nullable = true)\n",
      " |-- MUB: double (nullable = true)\n",
      " |-- Q2: double (nullable = true)\n",
      " |-- T2: double (nullable = true)\n",
      " |-- TH2: double (nullable = true)\n",
      " |-- PSFC: double (nullable = true)\n",
      " |-- U10: double (nullable = true)\n",
      " |-- V10: double (nullable = true)\n",
      " |-- TOPOSLPX: double (nullable = true)\n",
      " |-- TOPOSLPY: double (nullable = true)\n",
      " |-- SHDMAX: double (nullable = true)\n",
      " |-- SHDMIN: double (nullable = true)\n",
      " |-- SNOALB: double (nullable = true)\n",
      " |-- SEAICE: double (nullable = true)\n",
      " |-- IVGTYP: double (nullable = true)\n",
      " |-- ISLTYP: double (nullable = true)\n",
      " |-- VEGFRA: double (nullable = true)\n",
      " |-- SNOW: double (nullable = true)\n",
      " |-- SNOWH: double (nullable = true)\n",
      " |-- CANWAT: double (nullable = true)\n",
      " |-- LAKE_DEPTH: double (nullable = true)\n",
      " |-- UOCE: double (nullable = true)\n",
      " |-- VOCE: double (nullable = true)\n",
      " |-- FRC_URB2D: double (nullable = true)\n",
      " |-- LAI: double (nullable = true)\n",
      " |-- VAR: double (nullable = true)\n",
      " |-- MAPFAC_M: double (nullable = true)\n",
      " |-- MAPFAC_MX: double (nullable = true)\n",
      " |-- MAPFAC_MY: double (nullable = true)\n",
      " |-- F: double (nullable = true)\n",
      " |-- E: double (nullable = true)\n",
      " |-- SINALPHA: double (nullable = true)\n",
      " |-- COSALPHA: double (nullable = true)\n",
      " |-- HGT: double (nullable = true)\n",
      " |-- TSK: double (nullable = true)\n",
      " |-- CLAT: double (nullable = true)\n",
      " |-- ALBBCK: double (nullable = true)\n",
      " |-- TMN: double (nullable = true)\n",
      " |-- XLAND: double (nullable = true)\n",
      " |-- SNOWC: double (nullable = true)\n",
      " |-- SR: double (nullable = true)\n",
      " |-- PCB: double (nullable = true)\n",
      " |-- PC: double (nullable = true)\n",
      " |-- LANDMASK: double (nullable = true)\n",
      " |-- LAKEMASK: double (nullable = true)\n",
      " |-- SST: double (nullable = true)\n",
      " |-- TEMP: double (nullable = true)\n",
      "\n"
     ]
    }
   ],
   "source": [
    "df.cache()\n",
    "df.printSchema()"
   ]
  },
  {
   "cell_type": "markdown",
   "id": "beb0895c",
   "metadata": {},
   "source": [
    "Análisis exploratorio"
   ]
  },
  {
   "cell_type": "code",
   "execution_count": 5,
   "id": "d36dee3b",
   "metadata": {},
   "outputs": [
    {
     "name": "stderr",
     "output_type": "stream",
     "text": [
      "                                                                                \r"
     ]
    },
    {
     "data": {
      "text/html": [
       "<div>\n",
       "<style scoped>\n",
       "    .dataframe tbody tr th:only-of-type {\n",
       "        vertical-align: middle;\n",
       "    }\n",
       "\n",
       "    .dataframe tbody tr th {\n",
       "        vertical-align: top;\n",
       "    }\n",
       "\n",
       "    .dataframe thead th {\n",
       "        text-align: right;\n",
       "    }\n",
       "</style>\n",
       "<table border=\"1\" class=\"dataframe\">\n",
       "  <thead>\n",
       "    <tr style=\"text-align: right;\">\n",
       "      <th></th>\n",
       "      <th>0</th>\n",
       "      <th>1</th>\n",
       "      <th>2</th>\n",
       "      <th>3</th>\n",
       "      <th>4</th>\n",
       "    </tr>\n",
       "  </thead>\n",
       "  <tbody>\n",
       "    <tr>\n",
       "      <th>summary</th>\n",
       "      <td>count</td>\n",
       "      <td>mean</td>\n",
       "      <td>stddev</td>\n",
       "      <td>min</td>\n",
       "      <td>max</td>\n",
       "    </tr>\n",
       "    <tr>\n",
       "      <th>XLAT</th>\n",
       "      <td>106218</td>\n",
       "      <td>24.034976501572274</td>\n",
       "      <td>8.670468176868019</td>\n",
       "      <td>8.225723</td>\n",
       "      <td>39.51725</td>\n",
       "    </tr>\n",
       "    <tr>\n",
       "      <th>XLONG</th>\n",
       "      <td>106218</td>\n",
       "      <td>-101.34100341677491</td>\n",
       "      <td>12.977148743656334</td>\n",
       "      <td>-126.501343</td>\n",
       "      <td>-76.180664</td>\n",
       "    </tr>\n",
       "    <tr>\n",
       "      <th>LU_INDEX</th>\n",
       "      <td>106218</td>\n",
       "      <td>13.106215519026907</td>\n",
       "      <td>5.140676772032897</td>\n",
       "      <td>1.0</td>\n",
       "      <td>17.0</td>\n",
       "    </tr>\n",
       "    <tr>\n",
       "      <th>VAR_SSO</th>\n",
       "      <td>106218</td>\n",
       "      <td>401.9849938938036</td>\n",
       "      <td>1283.3207106221182</td>\n",
       "      <td>0.0</td>\n",
       "      <td>23457.728516</td>\n",
       "    </tr>\n",
       "    <tr>\n",
       "      <th>MU</th>\n",
       "      <td>106218</td>\n",
       "      <td>1810.8443963735126</td>\n",
       "      <td>781.9099183325786</td>\n",
       "      <td>569.960938</td>\n",
       "      <td>3451.492188</td>\n",
       "    </tr>\n",
       "    <tr>\n",
       "      <th>MUB</th>\n",
       "      <td>106218</td>\n",
       "      <td>91341.62153163127</td>\n",
       "      <td>6807.606878952749</td>\n",
       "      <td>59051.03125</td>\n",
       "      <td>96245.40625</td>\n",
       "    </tr>\n",
       "    <tr>\n",
       "      <th>Q2</th>\n",
       "      <td>106218</td>\n",
       "      <td>0.009804539654295888</td>\n",
       "      <td>0.00549232365592487</td>\n",
       "      <td>0.001053</td>\n",
       "      <td>0.018167</td>\n",
       "    </tr>\n",
       "    <tr>\n",
       "      <th>T2</th>\n",
       "      <td>106218</td>\n",
       "      <td>290.7366843312529</td>\n",
       "      <td>8.757078003168958</td>\n",
       "      <td>257.428162</td>\n",
       "      <td>304.739929</td>\n",
       "    </tr>\n",
       "    <tr>\n",
       "      <th>TH2</th>\n",
       "      <td>106218</td>\n",
       "      <td>292.5197530702803</td>\n",
       "      <td>7.940100425765985</td>\n",
       "      <td>267.574188</td>\n",
       "      <td>318.953613</td>\n",
       "    </tr>\n",
       "    <tr>\n",
       "      <th>PSFC</th>\n",
       "      <td>106218</td>\n",
       "      <td>98393.51856022268</td>\n",
       "      <td>6687.970763602262</td>\n",
       "      <td>66117.3125</td>\n",
       "      <td>103607.242188</td>\n",
       "    </tr>\n",
       "    <tr>\n",
       "      <th>U10</th>\n",
       "      <td>106218</td>\n",
       "      <td>-1.8504051238773083</td>\n",
       "      <td>3.1447798848440836</td>\n",
       "      <td>-13.02328</td>\n",
       "      <td>14.030769</td>\n",
       "    </tr>\n",
       "    <tr>\n",
       "      <th>V10</th>\n",
       "      <td>106218</td>\n",
       "      <td>-2.9866632740872543</td>\n",
       "      <td>3.689014827024156</td>\n",
       "      <td>-21.335478</td>\n",
       "      <td>7.09481</td>\n",
       "    </tr>\n",
       "    <tr>\n",
       "      <th>TOPOSLPX</th>\n",
       "      <td>106218</td>\n",
       "      <td>0.0</td>\n",
       "      <td>0.0</td>\n",
       "      <td>0.0</td>\n",
       "      <td>0.0</td>\n",
       "    </tr>\n",
       "    <tr>\n",
       "      <th>TOPOSLPY</th>\n",
       "      <td>106218</td>\n",
       "      <td>0.0</td>\n",
       "      <td>0.0</td>\n",
       "      <td>0.0</td>\n",
       "      <td>0.0</td>\n",
       "    </tr>\n",
       "    <tr>\n",
       "      <th>SHDMAX</th>\n",
       "      <td>106218</td>\n",
       "      <td>22.761555631277187</td>\n",
       "      <td>30.998125153883844</td>\n",
       "      <td>0.0</td>\n",
       "      <td>91.191086</td>\n",
       "    </tr>\n",
       "    <tr>\n",
       "      <th>SHDMIN</th>\n",
       "      <td>106218</td>\n",
       "      <td>14.284080963490164</td>\n",
       "      <td>21.20520540593726</td>\n",
       "      <td>0.0</td>\n",
       "      <td>89.260117</td>\n",
       "    </tr>\n",
       "    <tr>\n",
       "      <th>SNOALB</th>\n",
       "      <td>106218</td>\n",
       "      <td>0.274359714586976</td>\n",
       "      <td>0.24760091863461964</td>\n",
       "      <td>0.08</td>\n",
       "      <td>0.839948</td>\n",
       "    </tr>\n",
       "    <tr>\n",
       "      <th>SEAICE</th>\n",
       "      <td>106218</td>\n",
       "      <td>0.0</td>\n",
       "      <td>0.0</td>\n",
       "      <td>0.0</td>\n",
       "      <td>0.0</td>\n",
       "    </tr>\n",
       "    <tr>\n",
       "      <th>IVGTYP</th>\n",
       "      <td>106218</td>\n",
       "      <td>13.106215519026907</td>\n",
       "      <td>5.140676772032897</td>\n",
       "      <td>1.0</td>\n",
       "      <td>17.0</td>\n",
       "    </tr>\n",
       "    <tr>\n",
       "      <th>ISLTYP</th>\n",
       "      <td>106218</td>\n",
       "      <td>10.485219077745768</td>\n",
       "      <td>4.534292621573182</td>\n",
       "      <td>1.0</td>\n",
       "      <td>16.0</td>\n",
       "    </tr>\n",
       "    <tr>\n",
       "      <th>VEGFRA</th>\n",
       "      <td>106218</td>\n",
       "      <td>15.673272274059016</td>\n",
       "      <td>22.89407894676091</td>\n",
       "      <td>0.0</td>\n",
       "      <td>90.283943</td>\n",
       "    </tr>\n",
       "    <tr>\n",
       "      <th>SNOW</th>\n",
       "      <td>106218</td>\n",
       "      <td>0.7952665723417874</td>\n",
       "      <td>9.34085239994336</td>\n",
       "      <td>0.0</td>\n",
       "      <td>383.27182</td>\n",
       "    </tr>\n",
       "    <tr>\n",
       "      <th>SNOWH</th>\n",
       "      <td>106218</td>\n",
       "      <td>0.0039763328626033195</td>\n",
       "      <td>0.046704261246512814</td>\n",
       "      <td>0.0</td>\n",
       "      <td>1.916359</td>\n",
       "    </tr>\n",
       "    <tr>\n",
       "      <th>CANWAT</th>\n",
       "      <td>106218</td>\n",
       "      <td>0.0</td>\n",
       "      <td>0.0</td>\n",
       "      <td>0.0</td>\n",
       "      <td>0.0</td>\n",
       "    </tr>\n",
       "    <tr>\n",
       "      <th>LAKE_DEPTH</th>\n",
       "      <td>106218</td>\n",
       "      <td>10.002091789414223</td>\n",
       "      <td>0.3513040005276418</td>\n",
       "      <td>1.215517</td>\n",
       "      <td>80.0</td>\n",
       "    </tr>\n",
       "    <tr>\n",
       "      <th>UOCE</th>\n",
       "      <td>106218</td>\n",
       "      <td>0.0</td>\n",
       "      <td>0.0</td>\n",
       "      <td>0.0</td>\n",
       "      <td>0.0</td>\n",
       "    </tr>\n",
       "    <tr>\n",
       "      <th>VOCE</th>\n",
       "      <td>106218</td>\n",
       "      <td>0.0</td>\n",
       "      <td>0.0</td>\n",
       "      <td>0.0</td>\n",
       "      <td>0.0</td>\n",
       "    </tr>\n",
       "    <tr>\n",
       "      <th>FRC_URB2D</th>\n",
       "      <td>106218</td>\n",
       "      <td>0.0</td>\n",
       "      <td>0.0</td>\n",
       "      <td>0.0</td>\n",
       "      <td>0.0</td>\n",
       "    </tr>\n",
       "    <tr>\n",
       "      <th>LAI</th>\n",
       "      <td>106218</td>\n",
       "      <td>0.3952073129695518</td>\n",
       "      <td>0.9482634101658939</td>\n",
       "      <td>0.0</td>\n",
       "      <td>6.058351</td>\n",
       "    </tr>\n",
       "    <tr>\n",
       "      <th>VAR</th>\n",
       "      <td>106218</td>\n",
       "      <td>39.88405398375044</td>\n",
       "      <td>81.549133449192</td>\n",
       "      <td>0.0</td>\n",
       "      <td>689.464966</td>\n",
       "    </tr>\n",
       "    <tr>\n",
       "      <th>MAPFAC_M</th>\n",
       "      <td>106218</td>\n",
       "      <td>1.0116721042949424</td>\n",
       "      <td>0.010523298664122167</td>\n",
       "      <td>1.0</td>\n",
       "      <td>1.04043</td>\n",
       "    </tr>\n",
       "    <tr>\n",
       "      <th>MAPFAC_MX</th>\n",
       "      <td>106218</td>\n",
       "      <td>1.0116721042949424</td>\n",
       "      <td>0.010523298664122167</td>\n",
       "      <td>1.0</td>\n",
       "      <td>1.04043</td>\n",
       "    </tr>\n",
       "    <tr>\n",
       "      <th>MAPFAC_MY</th>\n",
       "      <td>106218</td>\n",
       "      <td>1.0116721042949424</td>\n",
       "      <td>0.010523298664122167</td>\n",
       "      <td>1.0</td>\n",
       "      <td>1.04043</td>\n",
       "    </tr>\n",
       "    <tr>\n",
       "      <th>F</th>\n",
       "      <td>106218</td>\n",
       "      <td>5.8722231636822914E-5</td>\n",
       "      <td>2.0029206745507325E-5</td>\n",
       "      <td>2.1E-5</td>\n",
       "      <td>9.3E-5</td>\n",
       "    </tr>\n",
       "    <tr>\n",
       "      <th>E</th>\n",
       "      <td>106218</td>\n",
       "      <td>1.3167873618407386E-4</td>\n",
       "      <td>9.039186595918812E-6</td>\n",
       "      <td>1.13E-4</td>\n",
       "      <td>1.44E-4</td>\n",
       "    </tr>\n",
       "    <tr>\n",
       "      <th>SINALPHA</th>\n",
       "      <td>106218</td>\n",
       "      <td>-2.071212037252252E-10</td>\n",
       "      <td>0.09397325943476396</td>\n",
       "      <td>-0.181628</td>\n",
       "      <td>0.181628</td>\n",
       "    </tr>\n",
       "    <tr>\n",
       "      <th>COSALPHA</th>\n",
       "      <td>106218</td>\n",
       "      <td>0.9955665567888663</td>\n",
       "      <td>0.00402977532044225</td>\n",
       "      <td>0.983367</td>\n",
       "      <td>1.0</td>\n",
       "    </tr>\n",
       "    <tr>\n",
       "      <th>HGT</th>\n",
       "      <td>106218</td>\n",
       "      <td>334.2818730652052</td>\n",
       "      <td>635.3771224269667</td>\n",
       "      <td>-105.117157</td>\n",
       "      <td>3634.474854</td>\n",
       "    </tr>\n",
       "    <tr>\n",
       "      <th>TSK</th>\n",
       "      <td>106218</td>\n",
       "      <td>290.83358242420314</td>\n",
       "      <td>9.944213300650738</td>\n",
       "      <td>249.83783</td>\n",
       "      <td>303.980652</td>\n",
       "    </tr>\n",
       "    <tr>\n",
       "      <th>CLAT</th>\n",
       "      <td>106218</td>\n",
       "      <td>24.034976501572274</td>\n",
       "      <td>8.670468176868019</td>\n",
       "      <td>8.225723</td>\n",
       "      <td>39.51725</td>\n",
       "    </tr>\n",
       "    <tr>\n",
       "      <th>ALBBCK</th>\n",
       "      <td>106218</td>\n",
       "      <td>0.109558862725721</td>\n",
       "      <td>0.04160787597465468</td>\n",
       "      <td>0.052316</td>\n",
       "      <td>0.493192</td>\n",
       "    </tr>\n",
       "    <tr>\n",
       "      <th>TMN</th>\n",
       "      <td>106218</td>\n",
       "      <td>293.853765609953</td>\n",
       "      <td>6.105280924241166</td>\n",
       "      <td>265.106232</td>\n",
       "      <td>302.808838</td>\n",
       "    </tr>\n",
       "    <tr>\n",
       "      <th>XLAND</th>\n",
       "      <td>106218</td>\n",
       "      <td>1.5773221111299403</td>\n",
       "      <td>0.4939874376084125</td>\n",
       "      <td>1.0</td>\n",
       "      <td>2.0</td>\n",
       "    </tr>\n",
       "    <tr>\n",
       "      <th>SNOWC</th>\n",
       "      <td>106218</td>\n",
       "      <td>0.011627031199984936</td>\n",
       "      <td>0.10720052023002644</td>\n",
       "      <td>0.0</td>\n",
       "      <td>1.0</td>\n",
       "    </tr>\n",
       "    <tr>\n",
       "      <th>SR</th>\n",
       "      <td>106218</td>\n",
       "      <td>0.0</td>\n",
       "      <td>0.0</td>\n",
       "      <td>0.0</td>\n",
       "      <td>0.0</td>\n",
       "    </tr>\n",
       "    <tr>\n",
       "      <th>PCB</th>\n",
       "      <td>106218</td>\n",
       "      <td>0.0</td>\n",
       "      <td>0.0</td>\n",
       "      <td>0.0</td>\n",
       "      <td>0.0</td>\n",
       "    </tr>\n",
       "    <tr>\n",
       "      <th>PC</th>\n",
       "      <td>106218</td>\n",
       "      <td>0.0</td>\n",
       "      <td>0.0</td>\n",
       "      <td>0.0</td>\n",
       "      <td>0.0</td>\n",
       "    </tr>\n",
       "    <tr>\n",
       "      <th>LANDMASK</th>\n",
       "      <td>106218</td>\n",
       "      <td>0.4226778888700597</td>\n",
       "      <td>0.49398743760841246</td>\n",
       "      <td>0.0</td>\n",
       "      <td>1.0</td>\n",
       "    </tr>\n",
       "    <tr>\n",
       "      <th>LAKEMASK</th>\n",
       "      <td>106218</td>\n",
       "      <td>0.0020241390348151914</td>\n",
       "      <td>0.04494508776327774</td>\n",
       "      <td>0.0</td>\n",
       "      <td>1.0</td>\n",
       "    </tr>\n",
       "    <tr>\n",
       "      <th>SST</th>\n",
       "      <td>106218</td>\n",
       "      <td>290.83358242420314</td>\n",
       "      <td>9.944213300650738</td>\n",
       "      <td>249.83783</td>\n",
       "      <td>303.980652</td>\n",
       "    </tr>\n",
       "    <tr>\n",
       "      <th>TEMP</th>\n",
       "      <td>106218</td>\n",
       "      <td>290.2332843774125</td>\n",
       "      <td>8.75644662457481</td>\n",
       "      <td>257.0</td>\n",
       "      <td>304.0</td>\n",
       "    </tr>\n",
       "  </tbody>\n",
       "</table>\n",
       "</div>"
      ],
      "text/plain": [
       "                 0                       1                      2  \\\n",
       "summary      count                    mean                 stddev   \n",
       "XLAT        106218      24.034976501572274      8.670468176868019   \n",
       "XLONG       106218     -101.34100341677491     12.977148743656334   \n",
       "LU_INDEX    106218      13.106215519026907      5.140676772032897   \n",
       "VAR_SSO     106218       401.9849938938036     1283.3207106221182   \n",
       "MU          106218      1810.8443963735126      781.9099183325786   \n",
       "MUB         106218       91341.62153163127      6807.606878952749   \n",
       "Q2          106218    0.009804539654295888    0.00549232365592487   \n",
       "T2          106218       290.7366843312529      8.757078003168958   \n",
       "TH2         106218       292.5197530702803      7.940100425765985   \n",
       "PSFC        106218       98393.51856022268      6687.970763602262   \n",
       "U10         106218     -1.8504051238773083     3.1447798848440836   \n",
       "V10         106218     -2.9866632740872543      3.689014827024156   \n",
       "TOPOSLPX    106218                     0.0                    0.0   \n",
       "TOPOSLPY    106218                     0.0                    0.0   \n",
       "SHDMAX      106218      22.761555631277187     30.998125153883844   \n",
       "SHDMIN      106218      14.284080963490164      21.20520540593726   \n",
       "SNOALB      106218       0.274359714586976    0.24760091863461964   \n",
       "SEAICE      106218                     0.0                    0.0   \n",
       "IVGTYP      106218      13.106215519026907      5.140676772032897   \n",
       "ISLTYP      106218      10.485219077745768      4.534292621573182   \n",
       "VEGFRA      106218      15.673272274059016      22.89407894676091   \n",
       "SNOW        106218      0.7952665723417874       9.34085239994336   \n",
       "SNOWH       106218   0.0039763328626033195   0.046704261246512814   \n",
       "CANWAT      106218                     0.0                    0.0   \n",
       "LAKE_DEPTH  106218      10.002091789414223     0.3513040005276418   \n",
       "UOCE        106218                     0.0                    0.0   \n",
       "VOCE        106218                     0.0                    0.0   \n",
       "FRC_URB2D   106218                     0.0                    0.0   \n",
       "LAI         106218      0.3952073129695518     0.9482634101658939   \n",
       "VAR         106218       39.88405398375044        81.549133449192   \n",
       "MAPFAC_M    106218      1.0116721042949424   0.010523298664122167   \n",
       "MAPFAC_MX   106218      1.0116721042949424   0.010523298664122167   \n",
       "MAPFAC_MY   106218      1.0116721042949424   0.010523298664122167   \n",
       "F           106218   5.8722231636822914E-5  2.0029206745507325E-5   \n",
       "E           106218   1.3167873618407386E-4   9.039186595918812E-6   \n",
       "SINALPHA    106218  -2.071212037252252E-10    0.09397325943476396   \n",
       "COSALPHA    106218      0.9955665567888663    0.00402977532044225   \n",
       "HGT         106218       334.2818730652052      635.3771224269667   \n",
       "TSK         106218      290.83358242420314      9.944213300650738   \n",
       "CLAT        106218      24.034976501572274      8.670468176868019   \n",
       "ALBBCK      106218       0.109558862725721    0.04160787597465468   \n",
       "TMN         106218        293.853765609953      6.105280924241166   \n",
       "XLAND       106218      1.5773221111299403     0.4939874376084125   \n",
       "SNOWC       106218    0.011627031199984936    0.10720052023002644   \n",
       "SR          106218                     0.0                    0.0   \n",
       "PCB         106218                     0.0                    0.0   \n",
       "PC          106218                     0.0                    0.0   \n",
       "LANDMASK    106218      0.4226778888700597    0.49398743760841246   \n",
       "LAKEMASK    106218   0.0020241390348151914    0.04494508776327774   \n",
       "SST         106218      290.83358242420314      9.944213300650738   \n",
       "TEMP        106218       290.2332843774125       8.75644662457481   \n",
       "\n",
       "                      3              4  \n",
       "summary             min            max  \n",
       "XLAT           8.225723       39.51725  \n",
       "XLONG       -126.501343     -76.180664  \n",
       "LU_INDEX            1.0           17.0  \n",
       "VAR_SSO             0.0   23457.728516  \n",
       "MU           569.960938    3451.492188  \n",
       "MUB         59051.03125    96245.40625  \n",
       "Q2             0.001053       0.018167  \n",
       "T2           257.428162     304.739929  \n",
       "TH2          267.574188     318.953613  \n",
       "PSFC         66117.3125  103607.242188  \n",
       "U10           -13.02328      14.030769  \n",
       "V10          -21.335478        7.09481  \n",
       "TOPOSLPX            0.0            0.0  \n",
       "TOPOSLPY            0.0            0.0  \n",
       "SHDMAX              0.0      91.191086  \n",
       "SHDMIN              0.0      89.260117  \n",
       "SNOALB             0.08       0.839948  \n",
       "SEAICE              0.0            0.0  \n",
       "IVGTYP              1.0           17.0  \n",
       "ISLTYP              1.0           16.0  \n",
       "VEGFRA              0.0      90.283943  \n",
       "SNOW                0.0      383.27182  \n",
       "SNOWH               0.0       1.916359  \n",
       "CANWAT              0.0            0.0  \n",
       "LAKE_DEPTH     1.215517           80.0  \n",
       "UOCE                0.0            0.0  \n",
       "VOCE                0.0            0.0  \n",
       "FRC_URB2D           0.0            0.0  \n",
       "LAI                 0.0       6.058351  \n",
       "VAR                 0.0     689.464966  \n",
       "MAPFAC_M            1.0        1.04043  \n",
       "MAPFAC_MX           1.0        1.04043  \n",
       "MAPFAC_MY           1.0        1.04043  \n",
       "F                2.1E-5         9.3E-5  \n",
       "E               1.13E-4        1.44E-4  \n",
       "SINALPHA      -0.181628       0.181628  \n",
       "COSALPHA       0.983367            1.0  \n",
       "HGT         -105.117157    3634.474854  \n",
       "TSK           249.83783     303.980652  \n",
       "CLAT           8.225723       39.51725  \n",
       "ALBBCK         0.052316       0.493192  \n",
       "TMN          265.106232     302.808838  \n",
       "XLAND               1.0            2.0  \n",
       "SNOWC               0.0            1.0  \n",
       "SR                  0.0            0.0  \n",
       "PCB                 0.0            0.0  \n",
       "PC                  0.0            0.0  \n",
       "LANDMASK            0.0            1.0  \n",
       "LAKEMASK            0.0            1.0  \n",
       "SST           249.83783     303.980652  \n",
       "TEMP              257.0          304.0  "
      ]
     },
     "execution_count": 5,
     "metadata": {},
     "output_type": "execute_result"
    }
   ],
   "source": [
    "df.describe().toPandas().transpose()"
   ]
  },
  {
   "cell_type": "markdown",
   "id": "c6377d04",
   "metadata": {},
   "source": [
    "Correlación entre variables independientes y la variable objetivo"
   ]
  },
  {
   "cell_type": "code",
   "execution_count": 6,
   "id": "a6e32ef0",
   "metadata": {},
   "outputs": [
    {
     "name": "stdout",
     "output_type": "stream",
     "text": [
      "Correlacion de TEMP con  XLAT -0.8554067350291159\n",
      "Correlacion de TEMP con  XLONG -0.04856813258340898\n",
      "Correlacion de TEMP con  LU_INDEX 0.597937347779718\n",
      "Correlacion de TEMP con  VAR_SSO -0.17860378937102464\n",
      "Correlacion de TEMP con  MU -0.8458409364115996\n",
      "Correlacion de TEMP con  MUB 0.5531859457122403\n",
      "Correlacion de TEMP con  Q2 0.9098693143727444\n",
      "Correlacion de TEMP con  T2 0.9994532276521065\n",
      "Correlacion de TEMP con  TH2 0.7393555246437803\n",
      "Correlacion de TEMP con  PSFC 0.4825029908000767\n",
      "Correlacion de TEMP con  U10 -0.3707340856962934\n",
      "Correlacion de TEMP con  V10 -0.1813136838704939\n",
      "Correlacion de TEMP con  TOPOSLPX nan\n",
      "Correlacion de TEMP con  TOPOSLPY nan\n",
      "Correlacion de TEMP con  SHDMAX -0.5899623402347254\n",
      "Correlacion de TEMP con  SHDMIN -0.4599172446373808\n",
      "Correlacion de TEMP con  SNOALB -0.6667962821697532\n",
      "Correlacion de TEMP con  SEAICE nan\n",
      "Correlacion de TEMP con  IVGTYP 0.5979373477797182\n",
      "Correlacion de TEMP con  ISLTYP 0.720751159836306\n",
      "Correlacion de TEMP con  VEGFRA -0.4432988752253213\n",
      "Correlacion de TEMP con  SNOW -0.1985077954717075\n",
      "Correlacion de TEMP con  SNOWH -0.19850779821154277\n",
      "Correlacion de TEMP con  CANWAT nan\n",
      "Correlacion de TEMP con  LAKE_DEPTH -0.0006524357213246422\n",
      "Correlacion de TEMP con  UOCE nan\n",
      "Correlacion de TEMP con  VOCE nan\n",
      "Correlacion de TEMP con  FRC_URB2D nan\n",
      "Correlacion de TEMP con  LAI -0.10175090967381954\n",
      "Correlacion de TEMP con  VAR -0.33467096147635206\n",
      "Correlacion de TEMP con  MAPFAC_M -0.15852344891263173\n",
      "Correlacion de TEMP con  MAPFAC_MX -0.15852344891263395\n",
      "Correlacion de TEMP con  MAPFAC_MY -0.15852344891263642\n",
      "Correlacion de TEMP con  F -0.8476558825338927\n",
      "Correlacion de TEMP con  E 0.8810253305498745\n",
      "Correlacion de TEMP con  SINALPHA 0.0485911287559704\n",
      "Correlacion de TEMP con  COSALPHA -0.037299193436647435\n",
      "Correlacion de TEMP con  HGT -0.5469608604950282\n",
      "Correlacion de TEMP con  TSK 0.9815532078362462\n",
      "Correlacion de TEMP con  CLAT -0.855406735029115\n",
      "Correlacion de TEMP con  ALBBCK -0.5815673220574503\n",
      "Correlacion de TEMP con  TMN 0.911770647588456\n",
      "Correlacion de TEMP con  XLAND 0.7131937073182416\n",
      "Correlacion de TEMP con  SNOWC -0.2517024917568957\n",
      "Correlacion de TEMP con  SR nan\n",
      "Correlacion de TEMP con  PCB nan\n",
      "Correlacion de TEMP con  PC nan\n",
      "Correlacion de TEMP con  LANDMASK -0.7131937073182425\n",
      "Correlacion de TEMP con  LAKEMASK 0.008536386268838497\n",
      "Correlacion de TEMP con  SST 0.9815532078362462\n",
      "Correlacion de TEMP con  TEMP 1.0\n"
     ]
    }
   ],
   "source": [
    "for idx in df.columns:\n",
    "    if not(isinstance(df.select(idx).take(1)[0][0], six.string_types)):\n",
    "        print(\"Correlacion de TEMP con \", idx, df.stat.corr(\"TEMP\", idx))"
   ]
  },
  {
   "cell_type": "code",
   "execution_count": 7,
   "id": "5bef9bcd",
   "metadata": {},
   "outputs": [
    {
     "name": "stderr",
     "output_type": "stream",
     "text": [
      "\r",
      "[Stage 157:>                                                        (0 + 1) / 1]\r"
     ]
    },
    {
     "name": "stdout",
     "output_type": "stream",
     "text": [
      "+--------------------+-----+\n",
      "|            FEATURES| TEMP|\n",
      "+--------------------+-----+\n",
      "|[35.946552,-100.6...|279.0|\n",
      "|[35.945969,-100.4...|280.0|\n",
      "|[35.945255,-100.3...|280.0|\n",
      "|[35.944454,-100.2...|280.0|\n",
      "|[35.943546,-100.1...|280.0|\n",
      "+--------------------+-----+\n",
      "only showing top 5 rows\n",
      "\n"
     ]
    },
    {
     "name": "stderr",
     "output_type": "stream",
     "text": [
      "\r",
      "                                                                                \r"
     ]
    }
   ],
   "source": [
    "#Utilizamos la transformacion \"VectorAssembler para transformar multiples columnas en un columna de vectores necesario.\n",
    "#para la utilización de la libreria Spark ml\n",
    "vectorAssembler = VectorAssembler(inputCols = df.drop(\"TEMP\").columns, outputCol = \"FEATURES\")\n",
    "vdf = vectorAssembler.transform(df)\n",
    "vdf = vdf.select([\"FEATURES\",\"TEMP\"])\n",
    "vdf.show(5)"
   ]
  },
  {
   "cell_type": "markdown",
   "id": "82c4dd16",
   "metadata": {},
   "source": [
    "Grafica de la temperatura original"
   ]
  },
  {
   "cell_type": "code",
   "execution_count": 8,
   "id": "74ebf96b",
   "metadata": {},
   "outputs": [],
   "source": [
    "x_aux = range(0, vdf.count())\n",
    "y_aux = vdf.select(\"TEMP\").collect()  "
   ]
  },
  {
   "cell_type": "code",
   "execution_count": 9,
   "id": "64583847",
   "metadata": {},
   "outputs": [
    {
     "data": {
      "image/png": "[encoded data removed]",
      "text/plain": [
       "<Figure size 432x288 with 1 Axes>"
      ]
     },
     "metadata": {
      "needs_background": "light"
     },
     "output_type": "display_data"
    }
   ],
   "source": [
    "plt.scatter(x_aux, y_aux, color='blue')\n",
    "plt.xlabel(\"Medición\")\n",
    "plt.ylabel(\"Temperatura\")\n",
    "plt.show()"
   ]
  },
  {
   "cell_type": "markdown",
   "id": "d596feef",
   "metadata": {},
   "source": [
    "### Preparación de los datos para el entrenamiento."
   ]
  },
  {
   "cell_type": "markdown",
   "id": "fb3275a3",
   "metadata": {},
   "source": [
    "Estandarización/Normalización de los datos"
   ]
  },
  {
   "cell_type": "code",
   "execution_count": 10,
   "id": "4fd71658",
   "metadata": {},
   "outputs": [
    {
     "name": "stderr",
     "output_type": "stream",
     "text": [
      "                                                                                \r"
     ]
    },
    {
     "name": "stdout",
     "output_type": "stream",
     "text": [
      "+--------------------+-----+--------------------+\n",
      "|            FEATURES| TEMP|        STD_FEATURES|\n",
      "+--------------------+-----+--------------------+\n",
      "|[35.946552,-100.6...|279.0|[1.37380995529246...|\n",
      "|[35.945969,-100.4...|280.0|[1.37374271555544...|\n",
      "|[35.945255,-100.3...|280.0|[1.37366036706106...|\n",
      "|[35.944454,-100.2...|280.0|[1.37356798450643...|\n",
      "|[35.943546,-100.1...|280.0|[1.37346326121104...|\n",
      "+--------------------+-----+--------------------+\n",
      "only showing top 5 rows\n",
      "\n"
     ]
    }
   ],
   "source": [
    "#Utilizamos StandarScaler para transformar los datos de manera que su distribución \n",
    "#tenga un valor medio 0 y una desviación estándar de 1 para luegro agregarlos a una nueva columna.\n",
    "sscaler = StandardScaler(withMean = True, withStd = True,\n",
    "                         inputCol = \"FEATURES\", \n",
    "                         outputCol = \"STD_FEATURES\")\n",
    "\n",
    "model = sscaler.fit(vdf)\n",
    "vdf = model.transform(vdf)\n",
    "vdf.show(5)"
   ]
  },
  {
   "cell_type": "markdown",
   "id": "a33614e3",
   "metadata": {},
   "source": [
    "Dividimos nos datos en 70% de entrenamiento y 30 % de prueba"
   ]
  },
  {
   "cell_type": "code",
   "execution_count": 11,
   "id": "6fd56456",
   "metadata": {},
   "outputs": [],
   "source": [
    "splits = vdf.randomSplit([0.7, 0.3])\n",
    "train_data = splits[0]\n",
    "test_data = splits[1]"
   ]
  },
  {
   "cell_type": "code",
   "execution_count": 12,
   "id": "864eead4",
   "metadata": {},
   "outputs": [
    {
     "name": "stderr",
     "output_type": "stream",
     "text": [
      "[Stage 166:========>                                              (2 + 11) / 13]\r"
     ]
    },
    {
     "name": "stdout",
     "output_type": "stream",
     "text": [
      "+-------+-----------------+\n",
      "|summary|             TEMP|\n",
      "+-------+-----------------+\n",
      "|  count|            74219|\n",
      "|   mean|290.2323394279093|\n",
      "| stddev| 8.75019857406846|\n",
      "|    min|            257.0|\n",
      "|    max|            304.0|\n",
      "+-------+-----------------+\n",
      "\n"
     ]
    },
    {
     "name": "stderr",
     "output_type": "stream",
     "text": [
      "\r",
      "                                                                                \r"
     ]
    }
   ],
   "source": [
    "train_data.describe().show()"
   ]
  },
  {
   "cell_type": "code",
   "execution_count": 13,
   "id": "11130d1a",
   "metadata": {},
   "outputs": [
    {
     "name": "stdout",
     "output_type": "stream",
     "text": [
      "+-------+-----------------+\n",
      "|summary|             TEMP|\n",
      "+-------+-----------------+\n",
      "|  count|            31999|\n",
      "|   mean|290.2354761086284|\n",
      "| stddev|8.771057786890019|\n",
      "|    min|            258.0|\n",
      "|    max|            304.0|\n",
      "+-------+-----------------+\n",
      "\n"
     ]
    }
   ],
   "source": [
    "test_data.describe().show()"
   ]
  },
  {
   "cell_type": "markdown",
   "id": "2c40a88c",
   "metadata": {},
   "source": [
    "### Regresión Lineal 1: Entrenando con datos sin normalizar"
   ]
  },
  {
   "cell_type": "code",
   "execution_count": 14,
   "id": "9dab5fac",
   "metadata": {},
   "outputs": [
    {
     "name": "stderr",
     "output_type": "stream",
     "text": [
      "22/05/17 14:41:27 WARN Instrumentation: [568ea989] regParam is zero, which might cause numerical instability and overfitting.\n",
      "22/05/17 14:41:29 WARN InstanceBuilder$NativeBLAS: Failed to load implementation from:dev.ludovic.netlib.blas.JNIBLAS\n",
      "22/05/17 14:41:29 WARN InstanceBuilder$NativeBLAS: Failed to load implementation from:dev.ludovic.netlib.blas.ForeignLinkerBLAS\n",
      "22/05/17 14:41:29 WARN InstanceBuilder$NativeLAPACK: Failed to load implementation from:dev.ludovic.netlib.lapack.JNILAPACK\n",
      "22/05/17 14:41:29 WARN Instrumentation: [568ea989] Cholesky solver failed due to singular covariance matrix. Retrying with Quasi-Newton solver.\n",
      "/storage/apps/spark-3.2.1-bin-hadoop3.2/python/pyspark/sql/context.py:125: FutureWarning: Deprecated in 3.0.0. Use SparkSession.builder.getOrCreate() instead.\n",
      "  warnings.warn(\n"
     ]
    },
    {
     "name": "stdout",
     "output_type": "stream",
     "text": [
      "+--------------------+-----+--------------------+------------------+\n",
      "|            FEATURES| TEMP|        STD_FEATURES|        prediction|\n",
      "+--------------------+-----+--------------------+------------------+\n",
      "|(50,[0,1,2,3,4,5,...|279.0|[1.21209977178234...|279.36160992695415|\n",
      "|(50,[0,1,2,3,4,5,...|281.0|[1.22978451462115...|280.65314326911374|\n",
      "|(50,[0,1,2,3,4,5,...|288.0|[1.33670157850856...|  287.880057234972|\n",
      "|(50,[0,1,2,3,4,5,...|288.0|[1.38144160777652...|287.77548001917995|\n",
      "|(50,[0,1,2,3,4,5,...|289.0|[1.48617816657306...| 288.9079876771428|\n",
      "|(50,[0,1,2,4,5,6,...|283.0|[1.17374105882525...| 282.7105716979617|\n",
      "|(50,[0,1,2,4,5,6,...|284.0|[1.19359396601419...| 283.5486279638823|\n",
      "|(50,[0,1,2,4,5,6,...|289.0|[1.25721590530828...|  288.940077396813|\n",
      "|(50,[0,1,2,4,5,6,...|288.0|[1.26586734124805...| 287.8902686219092|\n",
      "|(50,[0,1,2,4,5,6,...|287.0|[1.29866626215969...|287.33891713415085|\n",
      "|(50,[0,1,2,4,5,6,...|287.0|[1.30898427477159...|286.94311682890185|\n",
      "|(50,[0,1,2,4,5,6,...|287.0|[1.32107185734062...| 286.9537818301063|\n",
      "|(50,[0,1,2,4,5,6,...|287.0|[1.33136657247931...| 286.9242164363845|\n",
      "|(50,[0,1,2,4,5,6,...|287.0|[1.36578155375980...|287.09679710128466|\n",
      "|(50,[0,1,2,4,5,6,...|288.0|[1.36937732268070...| 287.5556534703702|\n",
      "|(50,[0,1,2,4,5,6,...|287.0|[1.38625392000106...|286.75740911731145|\n",
      "|(50,[0,1,2,4,5,6,...|287.0|[1.44829024710910...| 287.4277164569354|\n",
      "|(50,[0,1,2,4,5,6,...|284.0|[1.16944567370414...| 283.8921953468852|\n",
      "|(50,[0,1,2,4,5,6,...|288.0|[1.18367766181399...| 287.9401308709237|\n",
      "|(50,[0,1,2,4,5,6,...|288.0|[1.18582160601871...| 287.8533998500269|\n",
      "+--------------------+-----+--------------------+------------------+\n",
      "only showing top 20 rows\n",
      "\n"
     ]
    }
   ],
   "source": [
    "regressor1 = LinearRegression(featuresCol = 'FEATURES', labelCol = 'TEMP')\n",
    "\n",
    "#Learn to fit the model from training set\n",
    "regressor1 = regressor1.fit(train_data)\n",
    "\n",
    "#To predict the prices on testing set\n",
    "pred1 = regressor1.evaluate(test_data)\n",
    "\n",
    "#Predict the model\n",
    "pred1.predictions.show()"
   ]
  },
  {
   "cell_type": "code",
   "execution_count": 15,
   "id": "13b0862e",
   "metadata": {},
   "outputs": [
    {
     "name": "stdout",
     "output_type": "stream",
     "text": [
      "The coefficient of the model is:DenseVector([0.0062, -0.0003, -0.0019, -0.0, 0.0002, -0.0001, 12.0426, 0.6653, 0.3258, -0.0, -0.0022, -0.0025, 0.0, 0.0, -0.0024, -0.0026, 0.0771, 0.0, -0.0019, -0.0004, 0.0049, 0.0002, 0.0459, 0.0, -0.005, 0.0, 0.0, 0.0, -0.0079, -0.0, 0.5502, 0.5502, 0.5502, -5.5277, 9707.1965, -0.0117, -0.4236, -0.0042, -0.0043, 0.0062, 0.0937, 0.0125, 0.0411, 0.0952, 0.0, 0.0, 0.0, -0.0411, 0.0517, -0.0043])\n",
      "The intercept of the model is: 7.281562\n"
     ]
    }
   ],
   "source": [
    "#coefficient of the regression model\n",
    "coeff1 = regressor1.coefficients\n",
    "#X and Y intercept\n",
    "intr1 = regressor1.intercept\n",
    "print (\"The coefficient of the model is:% a\"% coeff1)\n",
    "print (\"The intercept of the model is:% f\"% intr1)"
   ]
  },
  {
   "cell_type": "code",
   "execution_count": 16,
   "id": "b3b5cf56",
   "metadata": {},
   "outputs": [
    {
     "name": "stdout",
     "output_type": "stream",
     "text": [
      "RMSE: 0.291\n",
      "MSE: 0.085\n",
      "r^2: 0.999\n"
     ]
    }
   ],
   "source": [
    "eval = RegressionEvaluator(labelCol=\"TEMP\", predictionCol=\"prediction\", metricName=\"rmse\")\n",
    "# Root Mean Square Error\n",
    "rmse = eval.evaluate(pred1.predictions)\n",
    "print(\"RMSE: %.3f\" % rmse)\n",
    "# Mean Square Error\n",
    "mse = eval.evaluate(pred1.predictions, {eval.metricName: \"mse\"})\n",
    "print(\"MSE: %.3f\" % mse)\n",
    "# r2 - coefficient of determination\n",
    "r2 = eval.evaluate(pred1.predictions, {eval.metricName: \"r2\"})\n",
    "print(\"r^2: %.3f\" %r2)"
   ]
  },
  {
   "cell_type": "markdown",
   "id": "f8f07960",
   "metadata": {},
   "source": [
    " RMSE Mide las diferencias entre los valores predichos por el modelo y los valores reales.\n",
    " \n",
    " MSE  Mide el error cuadrado promedio, entre las prediccion del modelo y valor real.\n",
    " \n",
    " r^2 Indica el porcentaje de variabilidad que puesde ser explicado por nuestro modelo"
   ]
  },
  {
   "cell_type": "markdown",
   "id": "452497fa",
   "metadata": {},
   "source": [
    "##### Graficando los resultados"
   ]
  },
  {
   "cell_type": "code",
   "execution_count": 17,
   "id": "3c363230",
   "metadata": {},
   "outputs": [
    {
     "name": "stdout",
     "output_type": "stream",
     "text": [
      "+--------------------+-----+--------------------+------------------+\n",
      "|            FEATURES| TEMP|        STD_FEATURES|        prediction|\n",
      "+--------------------+-----+--------------------+------------------+\n",
      "|(50,[0,1,2,3,4,5,...|279.0|[1.21209977178234...|279.36160992695415|\n",
      "|(50,[0,1,2,3,4,5,...|281.0|[1.22978451462115...|280.65314326911374|\n",
      "|(50,[0,1,2,3,4,5,...|288.0|[1.33670157850856...|  287.880057234972|\n",
      "|(50,[0,1,2,3,4,5,...|288.0|[1.38144160777652...|287.77548001917995|\n",
      "|(50,[0,1,2,3,4,5,...|289.0|[1.48617816657306...| 288.9079876771428|\n",
      "|(50,[0,1,2,4,5,6,...|283.0|[1.17374105882525...| 282.7105716979617|\n",
      "|(50,[0,1,2,4,5,6,...|284.0|[1.19359396601419...| 283.5486279638823|\n",
      "|(50,[0,1,2,4,5,6,...|289.0|[1.25721590530828...|  288.940077396813|\n",
      "|(50,[0,1,2,4,5,6,...|288.0|[1.26586734124805...| 287.8902686219092|\n",
      "|(50,[0,1,2,4,5,6,...|287.0|[1.29866626215969...|287.33891713415085|\n",
      "|(50,[0,1,2,4,5,6,...|287.0|[1.30898427477159...|286.94311682890185|\n",
      "|(50,[0,1,2,4,5,6,...|287.0|[1.32107185734062...| 286.9537818301063|\n",
      "|(50,[0,1,2,4,5,6,...|287.0|[1.33136657247931...| 286.9242164363845|\n",
      "|(50,[0,1,2,4,5,6,...|287.0|[1.36578155375980...|287.09679710128466|\n",
      "|(50,[0,1,2,4,5,6,...|288.0|[1.36937732268070...| 287.5556534703702|\n",
      "|(50,[0,1,2,4,5,6,...|287.0|[1.38625392000106...|286.75740911731145|\n",
      "|(50,[0,1,2,4,5,6,...|287.0|[1.44829024710910...| 287.4277164569354|\n",
      "|(50,[0,1,2,4,5,6,...|284.0|[1.16944567370414...| 283.8921953468852|\n",
      "|(50,[0,1,2,4,5,6,...|288.0|[1.18367766181399...| 287.9401308709237|\n",
      "|(50,[0,1,2,4,5,6,...|288.0|[1.18582160601871...| 287.8533998500269|\n",
      "+--------------------+-----+--------------------+------------------+\n",
      "only showing top 20 rows\n",
      "\n"
     ]
    }
   ],
   "source": [
    "pred1.predictions.show()"
   ]
  },
  {
   "cell_type": "code",
   "execution_count": 18,
   "id": "61c97c1c",
   "metadata": {},
   "outputs": [],
   "source": [
    "vdf1 = pred1.predictions"
   ]
  },
  {
   "cell_type": "code",
   "execution_count": 19,
   "id": "95ef03ea",
   "metadata": {},
   "outputs": [],
   "source": [
    "x_ax1 = range(0, vdf1.count())\n",
    "y_pred1 = vdf1.select(\"prediction\").collect()\n",
    "y_orig1 = vdf1.select(\"TEMP\").collect()  "
   ]
  },
  {
   "cell_type": "code",
   "execution_count": 20,
   "id": "a621f5fa",
   "metadata": {},
   "outputs": [
    {
     "data": {
      "image/png": "[encoded data removed]",
      "text/plain": [
       "<Figure size 432x288 with 1 Axes>"
      ]
     },
     "metadata": {
      "needs_background": "light"
     },
     "output_type": "display_data"
    }
   ],
   "source": [
    "plt.plot(x_ax1, y_orig1, label=\"Temperatura Original\")\n",
    "plt.plot(x_ax1, y_pred1, label=\"predicción\")\n",
    "plt.title(\"Predicción de temperatura\")\n",
    "plt.xlabel('Medición')\n",
    "plt.ylabel('Temperatura')\n",
    "plt.legend(loc='best',fancybox=True, shadow=True)\n",
    "plt.grid(True)\n",
    "plt.show() "
   ]
  },
  {
   "cell_type": "markdown",
   "id": "c1478762",
   "metadata": {},
   "source": [
    "### Regresion Lineal 2:  Entrenando con datos normalizados"
   ]
  },
  {
   "cell_type": "code",
   "execution_count": 21,
   "id": "fd2de5fd",
   "metadata": {},
   "outputs": [
    {
     "name": "stdout",
     "output_type": "stream",
     "text": [
      "Coeficientes: [0.0,0.0,0.0,0.0,-0.040820284363067304,0.0,0.059778796326801505,7.243089483351203,0.015182754013591683,0.0,0.0,0.0,0.0,0.0,0.0,0.0,0.0,0.0,0.0,0.0,0.0,0.0,0.0,0.0,0.0,0.0,0.0,0.0,0.0,0.0,0.0,0.0,0.0,0.0,0.0,0.0,0.0,0.0,0.5696180439083032,0.0,0.0,0.0,0.0,0.0,0.0,0.0,0.0,0.0,0.0,0.5696180439083094]\n",
      "Intercept: 290.2329356427421\n"
     ]
    }
   ],
   "source": [
    "lr = LinearRegression(featuresCol=\"STD_FEATURES\", labelCol=\"TEMP\", maxIter=1000, regParam=0.3, elasticNetParam=0.8)\n",
    "lr_model = lr.fit(train_data)\n",
    "\n",
    "print(\"Coeficientes: \" + str(lr_model.coefficients))\n",
    "print(\"Intercept: \" + str(lr_model.intercept))\n",
    "\n",
    "pred2 = lr_model.evaluate(test_data)"
   ]
  },
  {
   "cell_type": "code",
   "execution_count": 22,
   "id": "2aec67f4",
   "metadata": {},
   "outputs": [
    {
     "name": "stdout",
     "output_type": "stream",
     "text": [
      "+--------------------+-----+--------------------+------------------+\n",
      "|            FEATURES| TEMP|        STD_FEATURES|        prediction|\n",
      "+--------------------+-----+--------------------+------------------+\n",
      "|(50,[0,1,2,3,4,5,...|279.0|[1.21209977178234...|281.15136186592224|\n",
      "|(50,[0,1,2,3,4,5,...|281.0|[1.22978451462115...| 282.2644110050941|\n",
      "|(50,[0,1,2,3,4,5,...|288.0|[1.33670157850856...|287.71430523929894|\n",
      "|(50,[0,1,2,3,4,5,...|288.0|[1.38144160777652...| 287.6169149100775|\n",
      "|(50,[0,1,2,3,4,5,...|289.0|[1.48617816657306...| 288.5410562956884|\n",
      "|(50,[0,1,2,4,5,6,...|283.0|[1.17374105882525...| 284.0728643669161|\n",
      "|(50,[0,1,2,4,5,6,...|284.0|[1.19359396601419...|284.73038287263006|\n",
      "|(50,[0,1,2,4,5,6,...|289.0|[1.25721590530828...| 288.6267440071085|\n",
      "|(50,[0,1,2,4,5,6,...|288.0|[1.26586734124805...|287.74319579678973|\n",
      "|(50,[0,1,2,4,5,6,...|287.0|[1.29866626215969...|287.25378589182014|\n",
      "|(50,[0,1,2,4,5,6,...|287.0|[1.30898427477159...| 286.9174977520873|\n",
      "|(50,[0,1,2,4,5,6,...|287.0|[1.32107185734062...|286.92438342492636|\n",
      "|(50,[0,1,2,4,5,6,...|287.0|[1.33136657247931...|286.90167427682974|\n",
      "|(50,[0,1,2,4,5,6,...|287.0|[1.36578155375980...| 287.0625690521162|\n",
      "|(50,[0,1,2,4,5,6,...|288.0|[1.36937732268070...| 287.4643771025209|\n",
      "|(50,[0,1,2,4,5,6,...|287.0|[1.38625392000106...| 286.7492982682957|\n",
      "|(50,[0,1,2,4,5,6,...|287.0|[1.44829024710910...|287.28433847769026|\n",
      "|(50,[0,1,2,4,5,6,...|284.0|[1.16944567370414...|285.09535009817967|\n",
      "|(50,[0,1,2,4,5,6,...|288.0|[1.18367766181399...| 287.9487540691993|\n",
      "|(50,[0,1,2,4,5,6,...|288.0|[1.18582160601871...|287.86653804268076|\n",
      "+--------------------+-----+--------------------+------------------+\n",
      "only showing top 20 rows\n",
      "\n"
     ]
    }
   ],
   "source": [
    "pred2.predictions.show()"
   ]
  },
  {
   "cell_type": "code",
   "execution_count": 23,
   "id": "459c6deb",
   "metadata": {},
   "outputs": [],
   "source": [
    "vdf2 = pred2.predictions"
   ]
  },
  {
   "cell_type": "code",
   "execution_count": 24,
   "id": "eb427f56",
   "metadata": {},
   "outputs": [],
   "source": [
    "x_ax2 = range(0, vdf2.count())\n",
    "#x_ax_list = list(x_ax_0)\n",
    "y_pred2 = vdf2.select(\"prediction\").collect()\n",
    "y_orig2 = vdf2.select(\"TEMP\").collect()  "
   ]
  },
  {
   "cell_type": "code",
   "execution_count": 25,
   "id": "8e5c96e3",
   "metadata": {},
   "outputs": [
    {
     "data": {
      "image/png": "[encoded data removed]",
      "text/plain": [
       "<Figure size 432x288 with 1 Axes>"
      ]
     },
     "metadata": {
      "needs_background": "light"
     },
     "output_type": "display_data"
    }
   ],
   "source": [
    "plt.plot(x_ax2, y_orig2, label=\"Temperatura Original\")\n",
    "plt.plot(x_ax2, y_pred2, label=\"predicción\")\n",
    "plt.title(\"Predicción de temperatura\")\n",
    "plt.xlabel('Medición')\n",
    "plt.ylabel('Temperatura')\n",
    "plt.legend(loc='best',fancybox=True, shadow=True)\n",
    "plt.grid(True)\n",
    "plt.show() "
   ]
  },
  {
   "cell_type": "code",
   "execution_count": 26,
   "id": "9fda72f8",
   "metadata": {},
   "outputs": [
    {
     "name": "stdout",
     "output_type": "stream",
     "text": [
      "RMSE: 0.462\n",
      "MSE: 0.214\n",
      "r^2: 0.997\n"
     ]
    }
   ],
   "source": [
    "eval = RegressionEvaluator(labelCol=\"TEMP\", predictionCol=\"prediction\", metricName=\"rmse\")\n",
    "# Root Mean Square Error\n",
    "rmse = eval.evaluate(pred2.predictions)\n",
    "print(\"RMSE: %.3f\" % rmse)\n",
    "# Mean Square Error\n",
    "mse = eval.evaluate(pred2.predictions, {eval.metricName: \"mse\"})\n",
    "print(\"MSE: %.3f\" % mse)\n",
    "# r2 - coefficient of determination\n",
    "r2 = eval.evaluate(pred2.predictions, {eval.metricName: \"r2\"})\n",
    "print(\"r^2: %.3f\" %r2)"
   ]
  },
  {
   "cell_type": "markdown",
   "id": "ee41623c",
   "metadata": {},
   "source": [
    "### Regresión con Árboles de Decisión - Gradient-boosting"
   ]
  },
  {
   "cell_type": "code",
   "execution_count": 27,
   "id": "31d40882",
   "metadata": {},
   "outputs": [
    {
     "name": "stderr",
     "output_type": "stream",
     "text": [
      "                                                                                \r"
     ]
    }
   ],
   "source": [
    "gbm = GBTRegressor(featuresCol = \"FEATURES\", labelCol = \"TEMP\", maxIter = 100) #Listo\n",
    "gbm_model = gbm.fit(train_data)                                                #Listo \n",
    "gbt_predictions = gbm_model.transform(test_data)                               #Listo"
   ]
  },
  {
   "cell_type": "code",
   "execution_count": 28,
   "id": "d0452069",
   "metadata": {},
   "outputs": [
    {
     "name": "stdout",
     "output_type": "stream",
     "text": [
      "RMSE =  0.3555814540235101\n",
      "MAE =  0.24952367676508797\n",
      "R2 =  0.9983564314183743\n"
     ]
    }
   ],
   "source": [
    "gbt_evaluator = RegressionEvaluator(labelCol=\"TEMP\", predictionCol=\"prediction\", metricName=\"rmse\")\n",
    "\n",
    "rmse = gbt_evaluator.evaluate(gbt_predictions, {gbt_evaluator.metricName: 'rmse'})\n",
    "mae = gbt_evaluator.evaluate(gbt_predictions, {gbt_evaluator.metricName: 'mae'})\n",
    "r2 = gbt_evaluator.evaluate(gbt_predictions, {gbt_evaluator.metricName: 'r2'})\n",
    "\n",
    "print(\"RMSE = \", rmse)\n",
    "print(\"MAE = \", mae)\n",
    "print(\"R2 = \", r2)"
   ]
  },
  {
   "cell_type": "code",
   "execution_count": 29,
   "id": "fa6b8c05",
   "metadata": {},
   "outputs": [],
   "source": [
    "vdf3=gbt_predictions"
   ]
  },
  {
   "cell_type": "code",
   "execution_count": 30,
   "id": "8dbbc664",
   "metadata": {},
   "outputs": [],
   "source": [
    "x_ax3 = range(0, vdf3.count())\n",
    "#x_ax_list = list(x_ax_0)\n",
    "y_pred3 = vdf3.select(\"prediction\").collect()\n",
    "y_orig3 = vdf3.select(\"TEMP\").collect()  "
   ]
  },
  {
   "cell_type": "code",
   "execution_count": 31,
   "id": "297a2592",
   "metadata": {},
   "outputs": [
    {
     "data": {
      "image/png": "[encoded data removed]",
      "text/plain": [
       "<Figure size 432x288 with 1 Axes>"
      ]
     },
     "metadata": {
      "needs_background": "light"
     },
     "output_type": "display_data"
    }
   ],
   "source": [
    "plt.plot(x_ax3, y_orig3, label=\"Temperatura Original\")\n",
    "plt.plot(x_ax3, y_pred3, label=\"predicción\")\n",
    "plt.title(\"Predicción de temperatura\")\n",
    "plt.xlabel('Medición')\n",
    "plt.ylabel('Temperatura')\n",
    "plt.legend(loc='best',fancybox=True, shadow=True)\n",
    "plt.grid(True)\n",
    "plt.show() "
   ]
  },
  {
   "cell_type": "markdown",
   "id": "0f6aa038",
   "metadata": {},
   "source": [
    "### Evaluar con otro conjunto de datos"
   ]
  }
 ],
 "metadata": {
  "kernelspec": {
   "display_name": "PySpark",
   "language": "python",
   "name": "pyspark"
  },
  "language_info": {
   "codemirror_mode": {
    "name": "ipython",
    "version": 3
   },
   "file_extension": ".py",
   "mimetype": "text/x-python",
   "name": "python",
   "nbconvert_exporter": "python",
   "pygments_lexer": "ipython3",
   "version": "3.8.5"
  }
 },
 "nbformat": 4,
 "nbformat_minor": 5
}
